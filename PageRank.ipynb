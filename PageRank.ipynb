{
 "cells": [
  {
   "cell_type": "code",
   "execution_count": 1,
   "id": "215efcba-02f4-4b11-a66f-7b541474498c",
   "metadata": {},
   "outputs": [],
   "source": [
    "import numpy as np"
   ]
  },
  {
   "cell_type": "code",
   "execution_count": 2,
   "id": "52086ea9-56f4-4870-b531-93381fdff44b",
   "metadata": {},
   "outputs": [],
   "source": [
    "import os"
   ]
  },
  {
   "cell_type": "code",
   "execution_count": 3,
   "id": "7628e28f-f886-4145-97c5-375da2a63744",
   "metadata": {},
   "outputs": [],
   "source": [
    "terms_to_article_names = {}"
   ]
  },
  {
   "cell_type": "code",
   "execution_count": 4,
   "id": "ba6d80f5-94ff-4a3f-bf2d-a992aed4b157",
   "metadata": {},
   "outputs": [],
   "source": [
    "all_art_names = os.listdir(\"all_wiki\")[:1000]"
   ]
  },
  {
   "cell_type": "code",
   "execution_count": 5,
   "id": "e6b4ca81-2ee5-4142-8d64-fec4c7794350",
   "metadata": {},
   "outputs": [],
   "source": [
    "for test_file in all_art_names:\n",
    "    content = open(\"all_wiki/\" + test_file).read().replace(\"\\n\", \" \").lower().split(\" \")\n",
    "    for term in set(content):\n",
    "        if term in terms_to_article_names:\n",
    "            terms_to_article_names[term].add(test_file)\n",
    "        else:    \n",
    "            terms_to_article_names[term] = {test_file}\n",
    "        #terms_to_article_names[term] = list(set(terms_to_article_names[term]))    "
   ]
  },
  {
   "cell_type": "code",
   "execution_count": 6,
   "id": "3f0185e5-a093-468a-9da2-5f4eea9c2999",
   "metadata": {},
   "outputs": [],
   "source": [
    "all_links = np.genfromtxt(\n",
    "    \"links.tsv\",\n",
    "    dtype=\"str\",\n",
    "    delimiter=\"\\t\",\n",
    "    skip_header = 11\n",
    ")"
   ]
  },
  {
   "cell_type": "code",
   "execution_count": 7,
   "id": "5860b7bf-185b-48a5-ab4a-375754a68d1f",
   "metadata": {},
   "outputs": [
    {
     "data": {
      "text/plain": [
       "array([['%C3%81ed%C3%A1n_mac_Gabr%C3%A1in', 'Bede'],\n",
       "       ['%C3%81ed%C3%A1n_mac_Gabr%C3%A1in', 'Columba'],\n",
       "       ['%C3%81ed%C3%A1n_mac_Gabr%C3%A1in', 'D%C3%A1l_Riata'],\n",
       "       ['%C3%81ed%C3%A1n_mac_Gabr%C3%A1in', 'Great_Britain'],\n",
       "       ['%C3%81ed%C3%A1n_mac_Gabr%C3%A1in', 'Ireland'],\n",
       "       ['%C3%81ed%C3%A1n_mac_Gabr%C3%A1in', 'Isle_of_Man'],\n",
       "       ['%C3%81ed%C3%A1n_mac_Gabr%C3%A1in', 'Monarchy'],\n",
       "       ['%C3%81ed%C3%A1n_mac_Gabr%C3%A1in', 'Orkney'],\n",
       "       ['%C3%81ed%C3%A1n_mac_Gabr%C3%A1in', 'Picts'],\n",
       "       ['%C3%81ed%C3%A1n_mac_Gabr%C3%A1in', 'Scotland']], dtype='<U83')"
      ]
     },
     "execution_count": 7,
     "metadata": {},
     "output_type": "execute_result"
    }
   ],
   "source": [
    "all_links[:10]"
   ]
  },
  {
   "cell_type": "code",
   "execution_count": 8,
   "id": "6c7bb01b-a21e-4441-b6b3-30732648eeaa",
   "metadata": {},
   "outputs": [],
   "source": [
    "M = np.eye(len(all_art_names))"
   ]
  },
  {
   "cell_type": "code",
   "execution_count": 9,
   "id": "e4dc70a8-1734-49d2-928d-fb804b059e24",
   "metadata": {},
   "outputs": [
    {
     "data": {
      "text/plain": [
       "(1000, 1000)"
      ]
     },
     "execution_count": 9,
     "metadata": {},
     "output_type": "execute_result"
    }
   ],
   "source": [
    "M.shape"
   ]
  },
  {
   "cell_type": "code",
   "execution_count": 10,
   "id": "ac49fd50-b093-4edd-a9c8-0d2b64126ac6",
   "metadata": {},
   "outputs": [],
   "source": [
    "for pair in all_links:\n",
    "    first_page, second_page = pair\n",
    "    if first_page + \".txt\" in all_art_names and second_page + \".txt\" in all_art_names:\n",
    "        index_1 = all_art_names.index(first_page + \".txt\")\n",
    "        index_2 = all_art_names.index(second_page + \".txt\")\n",
    "        \n",
    "        M[ index_1, index_2 ] += 1"
   ]
  },
  {
   "cell_type": "code",
   "execution_count": 11,
   "id": "4af54a7d-3954-4e62-b3f6-dcbf8635cf52",
   "metadata": {},
   "outputs": [],
   "source": [
    "for i in range(M.shape[0]):\n",
    "    M[i] /= M[i].sum()"
   ]
  },
  {
   "cell_type": "code",
   "execution_count": 12,
   "id": "78860fa6-e69f-42c3-adc5-5fd934e6c928",
   "metadata": {},
   "outputs": [
    {
     "data": {
      "text/plain": [
       "array([[0.14285714, 0.        , 0.        , ..., 0.        , 0.        ,\n",
       "        0.        ],\n",
       "       [0.        , 0.1       , 0.        , ..., 0.        , 0.        ,\n",
       "        0.        ],\n",
       "       [0.        , 0.        , 0.33333333, ..., 0.        , 0.        ,\n",
       "        0.        ],\n",
       "       ...,\n",
       "       [0.        , 0.        , 0.        , ..., 0.25      , 0.        ,\n",
       "        0.        ],\n",
       "       [0.        , 0.        , 0.        , ..., 0.        , 0.14285714,\n",
       "        0.        ],\n",
       "       [0.        , 0.        , 0.        , ..., 0.        , 0.        ,\n",
       "        0.16666667]])"
      ]
     },
     "execution_count": 12,
     "metadata": {},
     "output_type": "execute_result"
    }
   ],
   "source": [
    "M[:100, :100]"
   ]
  }
 ],
 "metadata": {
  "kernelspec": {
   "display_name": "Python 3 (ipykernel)",
   "language": "python",
   "name": "python3"
  },
  "language_info": {
   "codemirror_mode": {
    "name": "ipython",
    "version": 3
   },
   "file_extension": ".py",
   "mimetype": "text/x-python",
   "name": "python",
   "nbconvert_exporter": "python",
   "pygments_lexer": "ipython3",
   "version": "3.10.10"
  }
 },
 "nbformat": 4,
 "nbformat_minor": 5
}
