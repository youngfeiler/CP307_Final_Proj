{
 "cells": [
  {
   "cell_type": "code",
   "execution_count": 3,
   "id": "5df76ff3-60c0-42ef-8e6d-bad4c06f82c4",
   "metadata": {},
   "outputs": [],
   "source": [
    "from sparse_matrix import SparseMatrix\n",
    "from PageRank import page_rank"
   ]
  },
  {
   "cell_type": "code",
   "execution_count": 4,
   "id": "b31739a2-53fd-4a17-828e-62c5f4f3406c",
   "metadata": {},
   "outputs": [],
   "source": [
    "import matplotlib.pyplot as plt"
   ]
  },
  {
   "cell_type": "code",
   "execution_count": 6,
   "id": "d37c53d5-d430-47b8-9db1-4f21bc29146b",
   "metadata": {},
   "outputs": [
    {
     "name": "stdout",
     "output_type": "stream",
     "text": [
      "10 256\n"
     ]
    },
    {
     "ename": "KeyboardInterrupt",
     "evalue": "",
     "output_type": "error",
     "traceback": [
      "\u001b[0;31m---------------------------------------------------------------------------\u001b[0m",
      "\u001b[0;31mKeyboardInterrupt\u001b[0m                         Traceback (most recent call last)",
      "Cell \u001b[0;32mIn[6], line 6\u001b[0m\n\u001b[1;32m      4\u001b[0m \u001b[38;5;28;01mfor\u001b[39;00m i \u001b[38;5;129;01min\u001b[39;00m \u001b[38;5;28mrange\u001b[39m(\u001b[38;5;241m10\u001b[39m, \u001b[38;5;241m1001\u001b[39m, \u001b[38;5;241m100\u001b[39m):\n\u001b[1;32m      5\u001b[0m     x\u001b[38;5;241m.\u001b[39mappend(i)\n\u001b[0;32m----> 6\u001b[0m     count \u001b[38;5;241m=\u001b[39m \u001b[43mpage_rank\u001b[49m\u001b[43m(\u001b[49m\u001b[38;5;124;43m\"\u001b[39;49m\u001b[38;5;124;43mall_wiki\u001b[39;49m\u001b[38;5;124;43m\"\u001b[39;49m\u001b[43m,\u001b[49m\u001b[43m \u001b[49m\u001b[38;5;124;43m\"\u001b[39;49m\u001b[38;5;124;43mlinks.tsv\u001b[39;49m\u001b[38;5;124;43m\"\u001b[39;49m\u001b[43m,\u001b[49m\u001b[43m \u001b[49m\u001b[43mi\u001b[49m\u001b[43m)\u001b[49m\n\u001b[1;32m      7\u001b[0m     y2\u001b[38;5;241m.\u001b[39mappend(count)\n\u001b[1;32m      8\u001b[0m     \u001b[38;5;28mprint\u001b[39m(i, count)\n",
      "File \u001b[0;32m~/CP307_Final_Proj/PageRank.py:96\u001b[0m, in \u001b[0;36mpage_rank\u001b[0;34m(folder, links, n)\u001b[0m\n\u001b[1;32m     94\u001b[0m M2 \u001b[38;5;241m=\u001b[39m M\u001b[38;5;241m.\u001b[39mcopy()\n\u001b[1;32m     95\u001b[0m \u001b[38;5;28;01mwhile\u001b[39;00m i \u001b[38;5;241m<\u001b[39m counter:\n\u001b[0;32m---> 96\u001b[0m     M2,count \u001b[38;5;241m=\u001b[39m \u001b[43mM2\u001b[49m\u001b[38;5;241;43m*\u001b[39;49m\u001b[43mM\u001b[49m\n\u001b[1;32m     97\u001b[0m     total \u001b[38;5;241m+\u001b[39m\u001b[38;5;241m=\u001b[39m count\n\u001b[1;32m     98\u001b[0m     i \u001b[38;5;241m+\u001b[39m\u001b[38;5;241m=\u001b[39m \u001b[38;5;241m1\u001b[39m\n",
      "File \u001b[0;32m~/CP307_Final_Proj/sparse_matrix.py:44\u001b[0m, in \u001b[0;36mSparseMatrix.__mul__\u001b[0;34m(self, b)\u001b[0m\n\u001b[1;32m     40\u001b[0m \u001b[38;5;28;01mfor\u001b[39;00m a_el \u001b[38;5;129;01min\u001b[39;00m \u001b[38;5;28mself\u001b[39m\u001b[38;5;241m.\u001b[39msparse:\n\u001b[1;32m     42\u001b[0m     \u001b[38;5;28;01mfor\u001b[39;00m b_el \u001b[38;5;129;01min\u001b[39;00m b\u001b[38;5;241m.\u001b[39msparse:\n\u001b[0;32m---> 44\u001b[0m         \u001b[38;5;28;01mif\u001b[39;00m a_el[\u001b[38;5;241m1\u001b[39m] \u001b[38;5;241m==\u001b[39m b_el[\u001b[38;5;241m0\u001b[39m]:\n\u001b[1;32m     46\u001b[0m             found \u001b[38;5;241m=\u001b[39m \u001b[38;5;28;01mFalse\u001b[39;00m\n\u001b[1;32m     48\u001b[0m             val \u001b[38;5;241m=\u001b[39m a_el[\u001b[38;5;241m2\u001b[39m] \u001b[38;5;241m*\u001b[39m b_el[\u001b[38;5;241m2\u001b[39m]\n",
      "\u001b[0;31mKeyboardInterrupt\u001b[0m: "
     ]
    }
   ],
   "source": [
    "x = []\n",
    "y2 = []\n",
    "\n",
    "for i in range(10, 1001, 100):\n",
    "    x.append(i)\n",
    "    count = page_rank(\"all_wiki\", \"links.tsv\", i)\n",
    "    y2.append(count)\n",
    "    print(i, count)\n",
    "\n",
    "# Scatter plots\n",
    "plt.scatter(x, y2)\n",
    "\n",
    "# Axis labels\n",
    "plt.xlabel('Size of Matrix')\n",
    "plt.ylabel('Number of Multiplications')\n",
    "\n",
    "# Title\n",
    "plt.title('Time Complexity of Sparse Matrix')\n",
    "    \n",
    "# Display the plot\n",
    "plt.show()"
   ]
  },
  {
   "cell_type": "code",
   "execution_count": null,
   "id": "033cbee5-5f14-42a7-9725-c92b545a908b",
   "metadata": {},
   "outputs": [],
   "source": []
  }
 ],
 "metadata": {
  "kernelspec": {
   "display_name": "Python 3 (ipykernel)",
   "language": "python",
   "name": "python3"
  },
  "language_info": {
   "codemirror_mode": {
    "name": "ipython",
    "version": 3
   },
   "file_extension": ".py",
   "mimetype": "text/x-python",
   "name": "python",
   "nbconvert_exporter": "python",
   "pygments_lexer": "ipython3",
   "version": "3.10.9"
  }
 },
 "nbformat": 4,
 "nbformat_minor": 5
}
